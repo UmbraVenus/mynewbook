{
 "cells": [
  {
   "cell_type": "code",
   "execution_count": null,
   "metadata": {},
   "outputs": [],
   "source": [
    "import requests\n",
    "import json\n",
    "from PIL import Image\n",
    "from io import BytesIO\n",
    "import matplotlib.pyplot as plt\n",
    "import deviantart\n",
    "import numpy as np\n",
    "import argparse\n",
    "import imutils\n",
    "import sys\n",
    "import cv2"
   ]
  },
  {
   "cell_type": "code",
   "execution_count": null,
   "metadata": {},
   "outputs": [],
   "source": [
    "def show_daily_deviations(dailydeviations):\n",
    "    da = deviantart.Api(\"16260\",\"66397f4afec59514bdf212884f4e0d74\")\n",
    "    dailydeviations = da.browse_dailydeviations()\n",
    "    for deviation in dailydeviations:\n",
    "    #print(da.get_deviation_metadata(deviation.deviationid)[0][\"description\"])\n",
    "    #print(deviation.content)\n",
    "    \n",
    "        jr = deviation.content\n",
    "    #for key, value in jr.items():\n",
    "      #  print(key, \":\", value)\n",
    "        if jr:\n",
    "            print(jr[\"src\"])\n",
    "\n",
    "            response = requests.get(jr[\"src\"],stream=True)\n",
    "            img = Image.open(response.raw)\n",
    "\n",
    "            plt.imshow(img)\n",
    "            plt.show()"
   ]
  },
  {
   "cell_type": "code",
   "execution_count": null,
   "metadata": {},
   "outputs": [],
   "source": [
    "resp = requests.get(\"https://backend.deviantart.com/oembed?url=http%3A%2F%2Ffav.me%2Fd2enxz7\")\n",
    "if resp.status_code != 200:\n",
    "    raise ApiErrpr('Get /tasks/ {}'.format(resp.status_code))\n",
    "jr = resp.json()\n",
    "for key, value in jr.items():\n",
    "    print(key, \":\", value)\n",
    "print(jr[\"url\"])\n",
    "\n",
    "response = requests.get(jr[\"url\"],stream=True)\n",
    "img = Image.open(response.raw)\n",
    "\n",
    "plt.imshow(img)\n",
    "plt.show()"
   ]
  }
 ],
 "metadata": {
  "kernelspec": {
   "display_name": "Python 3",
   "language": "python",
   "name": "python3"
  },
  "language_info": {
   "codemirror_mode": {
    "name": "ipython",
    "version": 3
   },
   "file_extension": ".py",
   "mimetype": "text/x-python",
   "name": "python",
   "nbconvert_exporter": "python",
   "pygments_lexer": "ipython3",
   "version": "3.8.0"
  },
  "widgets": {
   "application/vnd.jupyter.widget-state+json": {
    "state": {},
    "version_major": 2,
    "version_minor": 0
   }
  }
 },
 "nbformat": 4,
 "nbformat_minor": 4
}