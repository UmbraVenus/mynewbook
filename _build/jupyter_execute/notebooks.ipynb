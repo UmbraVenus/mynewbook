{
 "cells": [
  {
   "cell_type": "markdown",
   "metadata": {},
   "source": [
    "# Daily Deviations"
   ]
  },
  {
   "cell_type": "markdown",
   "metadata": {},
   "source": [
    "## ArtWork Updated Daily ##"
   ]
  },
  {
   "cell_type": "code",
   "execution_count": 8,
   "metadata": {},
   "outputs": [
    {
     "ename": "ModuleNotFoundError",
     "evalue": "No module named 'requests'",
     "output_type": "error",
     "traceback": [
      "\u001b[0;31m---------------------------------------------------------------------------\u001b[0m",
      "\u001b[0;31mModuleNotFoundError\u001b[0m                       Traceback (most recent call last)",
      "\u001b[0;32m<ipython-input-8-718fc6683134>\u001b[0m in \u001b[0;36m<module>\u001b[0;34m\u001b[0m\n\u001b[0;32m----> 1\u001b[0;31m \u001b[0;32mimport\u001b[0m \u001b[0mrequests\u001b[0m\u001b[0;34m\u001b[0m\u001b[0;34m\u001b[0m\u001b[0m\n\u001b[0m\u001b[1;32m      2\u001b[0m \u001b[0;32mimport\u001b[0m \u001b[0mjson\u001b[0m\u001b[0;34m\u001b[0m\u001b[0;34m\u001b[0m\u001b[0m\n\u001b[1;32m      3\u001b[0m \u001b[0;32mfrom\u001b[0m \u001b[0mPIL\u001b[0m \u001b[0;32mimport\u001b[0m \u001b[0mImage\u001b[0m\u001b[0;34m\u001b[0m\u001b[0;34m\u001b[0m\u001b[0m\n\u001b[1;32m      4\u001b[0m \u001b[0;32mfrom\u001b[0m \u001b[0mio\u001b[0m \u001b[0;32mimport\u001b[0m \u001b[0mBytesIO\u001b[0m\u001b[0;34m\u001b[0m\u001b[0;34m\u001b[0m\u001b[0m\n\u001b[1;32m      5\u001b[0m \u001b[0;32mimport\u001b[0m \u001b[0mmatplotlib\u001b[0m\u001b[0;34m.\u001b[0m\u001b[0mpyplot\u001b[0m \u001b[0;32mas\u001b[0m \u001b[0mplt\u001b[0m\u001b[0;34m\u001b[0m\u001b[0;34m\u001b[0m\u001b[0m\n",
      "\u001b[0;31mModuleNotFoundError\u001b[0m: No module named 'requests'"
     ]
    }
   ],
   "source": [
    "import requests\n",
    "import json\n",
    "from PIL import Image\n",
    "import matplotlib.pyplot as plt\n",
    "import deviantart\n",
    "import numpy as np\n",
    "import argparse\n",
    "import imutils\n",
    "import sys\n",
    "import ipywidgets as widgets\n",
    "from IPython.display import display\n",
    "from ipywidgets import interact, interact_manual"
   ]
  },
  {
   "cell_type": "code",
   "execution_count": 11,
   "metadata": {},
   "outputs": [
    {
     "ename": "SyntaxError",
     "evalue": "invalid syntax (<ipython-input-11-31fd5a4bfc2f>, line 1)",
     "output_type": "error",
     "traceback": [
      "\u001b[0;36m  File \u001b[0;32m\"<ipython-input-11-31fd5a4bfc2f>\"\u001b[0;36m, line \u001b[0;32m1\u001b[0m\n\u001b[0;31m    ```{toggle}\u001b[0m\n\u001b[0m    ^\u001b[0m\n\u001b[0;31mSyntaxError\u001b[0m\u001b[0;31m:\u001b[0m invalid syntax\n"
     ]
    }
   ],
   "source": [
    "da = deviantart.Api(\"16260\",\"66397f4afec59514bdf212884f4e0d74\")\n",
    "dailydeviations = da.browse_dailydeviations()\n",
    "\n",
    "dalist = []\n",
    "counter = 1\n",
    "for deviation in dailydeviations:\n",
    "    #print(da.get_deviation_metadata(deviation.deviationid)[0][\"description\"])\n",
    "    #print(deviation.content)\n",
    "    \n",
    "    jr = deviation.content\n",
    "    #for key, value in jr.items():\n",
    "      #  print(key, \":\", value)\n",
    "    if jr:\n",
    "        #print(jr[\"src\"])\n",
    "\n",
    "        response = requests.get(jr[\"src\"],stream=True)\n",
    "        #img = Image.open(response.raw)\n",
    "        image = widgets.Image(value=response.raw.read(),format=\"png\",width=300,height=300)\n",
    "        \n",
    "        text = widgets.Label(\n",
    "            value = str(counter),\n",
    "        )\n",
    "        items = widgets.HBox([image,text])\n",
    "        #plt.imshow(img)\n",
    "        #plt.show()\n",
    "        dalist += [items]\n",
    "        counter += 1\n",
    "widgets.GridBox(dalist, layout=widgets.Layout(grid_template_columns=\"repeat(2, 320px)\"))"
   ]
  },
  {
   "cell_type": "markdown",
   "metadata": {},
   "source": [
    "## More Recommendations ##"
   ]
  },
  {
   "cell_type": "code",
   "execution_count": null,
   "metadata": {},
   "outputs": [],
   "source": [
    "radio = widgets.RadioButtons(\n",
    "            options = [x for x in range(1,13)],\n",
    "            description=\"Your AR Pick:\",\n",
    "            disabled = False\n",
    "        )\n",
    "radio"
   ]
  },
  {
   "cell_type": "code",
   "execution_count": null,
   "metadata": {},
   "outputs": [],
   "source": [
    "morefav = da.browse_morelikethis_preview(dailydeviations[radio.value])['more_from_artist']\n",
    "recommendation = []\n",
    "for x in morefav:\n",
    "    r = x.content\n",
    "    #for key, value in jr.items():\n",
    "      #  print(key, \":\", value)\n",
    "    if r:\n",
    "        #print(jr[\"src\"])\n",
    "\n",
    "        response = requests.get(r[\"src\"],stream=True)\n",
    "        #img = Image.open(response.raw)\n",
    "        image = widgets.Image(value=response.raw.read(),format=\"png\",width=300,height= 300)\n",
    "        #plt.imshow(img)\n",
    "        #plt.show()\n",
    "        recommendation += [image]\n",
    "widgets.GridBox(recommendation, layout=widgets.Layout(grid_template_columns=\"repeat(2, 300px)\"))"
   ]
  }
 ],
 "metadata": {
  "interpreter": {
   "hash": "31f2aee4e71d21fbe5cf8b01ff0e069b9275f58929596ceb00d14d90e3e16cd6"
  },
  "kernelspec": {
   "display_name": "Python 3.8.2 64-bit",
   "name": "python3"
  },
  "language_info": {
   "codemirror_mode": {
    "name": "ipython",
    "version": 3
   },
   "file_extension": ".py",
   "mimetype": "text/x-python",
   "name": "python",
   "nbconvert_exporter": "python",
   "pygments_lexer": "ipython3",
   "version": "3.8.2"
  },
  "widgets": {
   "application/vnd.jupyter.widget-state+json": {
    "state": {},
    "version_major": 2,
    "version_minor": 0
   }
  }
 },
 "nbformat": 4,
 "nbformat_minor": 4
}