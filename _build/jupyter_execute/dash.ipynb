{
 "cells": [
  {
   "cell_type": "markdown",
   "metadata": {},
   "source": [
    "# Jupyter Dash"
   ]
  },
  {
   "cell_type": "markdown",
   "metadata": {},
   "source": [
    "# Please work"
   ]
  },
  {
   "cell_type": "code",
   "execution_count": 1,
   "metadata": {},
   "outputs": [
    {
     "name": "stdout",
     "output_type": "stream",
     "text": [
      "\u001b[33mDEPRECATION: Configuring installation scheme with distutils config files is deprecated and will no longer work in the near future. If you are using a Homebrew or Linuxbrew Python, please see discussion at https://github.com/Homebrew/homebrew-core/issues/76621\u001b[0m\r\n"
     ]
    },
    {
     "name": "stdout",
     "output_type": "stream",
     "text": [
      "Requirement already satisfied: jupyter-dash in /usr/local/lib/python3.8/site-packages (0.4.0)\r\n",
      "Requirement already satisfied: ipython in /Users/sr/Library/Python/3.8/lib/python/site-packages (from jupyter-dash) (7.25.0)\r\n",
      "Requirement already satisfied: retrying in /usr/local/lib/python3.8/site-packages (from jupyter-dash) (1.3.3)\r\n",
      "Requirement already satisfied: flask in /usr/local/lib/python3.8/site-packages (from jupyter-dash) (2.0.1)\r\n",
      "Requirement already satisfied: ipykernel in /Users/sr/Library/Python/3.8/lib/python/site-packages (from jupyter-dash) (6.0.3)\r\n",
      "Requirement already satisfied: dash in /usr/local/lib/python3.8/site-packages (from jupyter-dash) (1.21.0)\r\n",
      "Requirement already satisfied: ansi2html in /usr/local/lib/python3.8/site-packages (from jupyter-dash) (1.6.0)\r\n",
      "Requirement already satisfied: requests in /usr/local/lib/python3.8/site-packages (from jupyter-dash) (2.25.1)\r\n"
     ]
    },
    {
     "name": "stdout",
     "output_type": "stream",
     "text": [
      "Requirement already satisfied: dash-html-components==1.1.4 in /usr/local/lib/python3.8/site-packages (from dash->jupyter-dash) (1.1.4)\r\n",
      "Requirement already satisfied: dash-table==4.12.0 in /usr/local/lib/python3.8/site-packages (from dash->jupyter-dash) (4.12.0)\r\n",
      "Requirement already satisfied: plotly in /usr/local/lib/python3.8/site-packages (from dash->jupyter-dash) (4.14.3)\r\n",
      "Requirement already satisfied: future in /usr/local/lib/python3.8/site-packages (from dash->jupyter-dash) (0.18.2)\r\n",
      "Requirement already satisfied: flask-compress in /usr/local/lib/python3.8/site-packages (from dash->jupyter-dash) (1.10.1)\r\n",
      "Requirement already satisfied: dash-core-components==1.17.1 in /usr/local/lib/python3.8/site-packages (from dash->jupyter-dash) (1.17.1)\r\n",
      "Requirement already satisfied: itsdangerous>=2.0 in /usr/local/lib/python3.8/site-packages (from flask->jupyter-dash) (2.0.1)\r\n",
      "Requirement already satisfied: Werkzeug>=2.0 in /usr/local/lib/python3.8/site-packages (from flask->jupyter-dash) (2.0.1)\r\n",
      "Requirement already satisfied: click>=7.1.2 in /usr/local/lib/python3.8/site-packages (from flask->jupyter-dash) (8.0.1)\r\n",
      "Requirement already satisfied: Jinja2>=3.0 in /usr/local/lib/python3.8/site-packages (from flask->jupyter-dash) (3.0.1)\r\n",
      "Requirement already satisfied: MarkupSafe>=2.0 in /usr/local/lib/python3.8/site-packages (from Jinja2>=3.0->flask->jupyter-dash) (2.0.1)\r\n"
     ]
    },
    {
     "name": "stdout",
     "output_type": "stream",
     "text": [
      "Requirement already satisfied: brotli in /usr/local/lib/python3.8/site-packages (from flask-compress->dash->jupyter-dash) (1.0.9)\r\n",
      "Requirement already satisfied: tornado<7.0,>=4.2 in /Users/sr/Library/Python/3.8/lib/python/site-packages (from ipykernel->jupyter-dash) (6.1)\r\n",
      "Requirement already satisfied: traitlets<6.0,>=4.1.0 in /Users/sr/Library/Python/3.8/lib/python/site-packages (from ipykernel->jupyter-dash) (5.0.5)\r\n",
      "Requirement already satisfied: matplotlib-inline<0.2.0,>=0.1.0 in /Users/sr/Library/Python/3.8/lib/python/site-packages (from ipykernel->jupyter-dash) (0.1.2)\r\n",
      "Requirement already satisfied: appnope in /Users/sr/Library/Python/3.8/lib/python/site-packages (from ipykernel->jupyter-dash) (0.1.2)\r\n",
      "Requirement already satisfied: jupyter-client<7.0 in /Users/sr/Library/Python/3.8/lib/python/site-packages (from ipykernel->jupyter-dash) (6.1.12)\r\n",
      "Requirement already satisfied: debugpy<2.0,>=1.0.0 in /Users/sr/Library/Python/3.8/lib/python/site-packages (from ipykernel->jupyter-dash) (1.3.0)\r\n"
     ]
    },
    {
     "name": "stdout",
     "output_type": "stream",
     "text": [
      "Requirement already satisfied: prompt-toolkit!=3.0.0,!=3.0.1,<3.1.0,>=2.0.0 in /Users/sr/Library/Python/3.8/lib/python/site-packages (from ipython->jupyter-dash) (3.0.19)\r\n",
      "Requirement already satisfied: decorator in /Users/sr/Library/Python/3.8/lib/python/site-packages (from ipython->jupyter-dash) (5.0.9)\r\n",
      "Requirement already satisfied: setuptools>=18.5 in /Users/sr/Library/Python/3.8/lib/python/site-packages (from ipython->jupyter-dash) (57.4.0)\r\n",
      "Requirement already satisfied: backcall in /Users/sr/Library/Python/3.8/lib/python/site-packages (from ipython->jupyter-dash) (0.2.0)\r\n",
      "Requirement already satisfied: pexpect>4.3 in /Users/sr/Library/Python/3.8/lib/python/site-packages (from ipython->jupyter-dash) (4.8.0)\r\n",
      "Requirement already satisfied: pickleshare in /Users/sr/Library/Python/3.8/lib/python/site-packages (from ipython->jupyter-dash) (0.7.5)\r\n",
      "Requirement already satisfied: pygments in /Users/sr/Library/Python/3.8/lib/python/site-packages (from ipython->jupyter-dash) (2.9.0)\r\n",
      "Requirement already satisfied: jedi>=0.16 in /Users/sr/Library/Python/3.8/lib/python/site-packages (from ipython->jupyter-dash) (0.18.0)\r\n",
      "Requirement already satisfied: parso<0.9.0,>=0.8.0 in /Users/sr/Library/Python/3.8/lib/python/site-packages (from jedi>=0.16->ipython->jupyter-dash) (0.8.2)\r\n",
      "Requirement already satisfied: python-dateutil>=2.1 in /Users/sr/Library/Python/3.8/lib/python/site-packages (from jupyter-client<7.0->ipykernel->jupyter-dash) (2.8.2)\r\n",
      "Requirement already satisfied: jupyter-core>=4.6.0 in /Users/sr/Library/Python/3.8/lib/python/site-packages (from jupyter-client<7.0->ipykernel->jupyter-dash) (4.7.1)\r\n",
      "Requirement already satisfied: pyzmq>=13 in /Users/sr/Library/Python/3.8/lib/python/site-packages (from jupyter-client<7.0->ipykernel->jupyter-dash) (22.1.0)\r\n",
      "Requirement already satisfied: ptyprocess>=0.5 in /Users/sr/Library/Python/3.8/lib/python/site-packages (from pexpect>4.3->ipython->jupyter-dash) (0.7.0)\r\n",
      "Requirement already satisfied: wcwidth in /Users/sr/Library/Python/3.8/lib/python/site-packages (from prompt-toolkit!=3.0.0,!=3.0.1,<3.1.0,>=2.0.0->ipython->jupyter-dash) (0.2.5)\r\n"
     ]
    },
    {
     "name": "stdout",
     "output_type": "stream",
     "text": [
      "Requirement already satisfied: six>=1.5 in /Users/sr/Library/Python/3.8/lib/python/site-packages (from python-dateutil>=2.1->jupyter-client<7.0->ipykernel->jupyter-dash) (1.16.0)\r\n",
      "Requirement already satisfied: ipython-genutils in /Users/sr/Library/Python/3.8/lib/python/site-packages (from traitlets<6.0,>=4.1.0->ipykernel->jupyter-dash) (0.2.0)\r\n",
      "Requirement already satisfied: chardet<5,>=3.0.2 in /usr/local/lib/python3.8/site-packages (from requests->jupyter-dash) (4.0.0)\r\n",
      "Requirement already satisfied: urllib3<1.27,>=1.21.1 in /usr/local/lib/python3.8/site-packages (from requests->jupyter-dash) (1.26.3)\r\n",
      "Requirement already satisfied: certifi>=2017.4.17 in /usr/local/lib/python3.8/site-packages (from requests->jupyter-dash) (2020.12.5)\r\n",
      "Requirement already satisfied: idna<3,>=2.5 in /usr/local/lib/python3.8/site-packages (from requests->jupyter-dash) (2.10)\r\n"
     ]
    },
    {
     "name": "stdout",
     "output_type": "stream",
     "text": [
      "\u001b[33mDEPRECATION: Configuring installation scheme with distutils config files is deprecated and will no longer work in the near future. If you are using a Homebrew or Linuxbrew Python, please see discussion at https://github.com/Homebrew/homebrew-core/issues/76621\u001b[0m\r\n"
     ]
    },
    {
     "name": "stdout",
     "output_type": "stream",
     "text": [
      "Note: you may need to restart the kernel to use updated packages.\n"
     ]
    }
   ],
   "source": [
    "pip install jupyter-dash"
   ]
  },
  {
   "cell_type": "code",
   "execution_count": 2,
   "metadata": {},
   "outputs": [
    {
     "name": "stdout",
     "output_type": "stream",
     "text": [
      "\u001b[33mDEPRECATION: Configuring installation scheme with distutils config files is deprecated and will no longer work in the near future. If you are using a Homebrew or Linuxbrew Python, please see discussion at https://github.com/Homebrew/homebrew-core/issues/76621\u001b[0m\r\n"
     ]
    },
    {
     "name": "stdout",
     "output_type": "stream",
     "text": [
      "Requirement already satisfied: pyngrok in /usr/local/lib/python3.8/site-packages (5.0.5)\r\n",
      "Requirement already satisfied: PyYAML in /usr/local/lib/python3.8/site-packages (from pyngrok) (5.4.1)\r\n"
     ]
    },
    {
     "name": "stdout",
     "output_type": "stream",
     "text": [
      "\u001b[33mDEPRECATION: Configuring installation scheme with distutils config files is deprecated and will no longer work in the near future. If you are using a Homebrew or Linuxbrew Python, please see discussion at https://github.com/Homebrew/homebrew-core/issues/76621\u001b[0m\r\n"
     ]
    },
    {
     "name": "stdout",
     "output_type": "stream",
     "text": [
      "Note: you may need to restart the kernel to use updated packages.\n"
     ]
    }
   ],
   "source": [
    "pip install pyngrok"
   ]
  },
  {
   "cell_type": "code",
   "execution_count": 3,
   "metadata": {},
   "outputs": [
    {
     "data": {
      "text/html": [
       "\n",
       "<iframe\n",
       "    width=\"100%\"\n",
       "    height=\"650\"\n",
       "    src=\"http://127.0.0.1:8050/\"\n",
       "    frameborder=\"0\"\n",
       "    allowfullscreen\n",
       "></iframe>\n"
      ],
      "text/plain": [
       "<IPython.lib.display.IFrame at 0x12107fd60>"
      ]
     },
     "metadata": {},
     "output_type": "display_data"
    },
    {
     "data": {
      "text/plain": [
       "<NgrokTunnel: \"http://a781-2601-644-400-76e0-4990-fbac-ae95-16ab.ngrok.io\" -> \"http://localhost:8050\">"
      ]
     },
     "execution_count": 3,
     "metadata": {},
     "output_type": "execute_result"
    }
   ],
   "source": [
    "import plotly.express as px\n",
    "from jupyter_dash import JupyterDash\n",
    "import dash_core_components as dcc\n",
    "import dash_html_components as html\n",
    "from dash.dependencies import Input, Output\n",
    "# Load Data\n",
    "from pyngrok import ngrok\n",
    "\n",
    "tunnel = ngrok.connect(8050)\n",
    "\n",
    "df = px.data.tips()\n",
    "# Build App\n",
    "app = JupyterDash(__name__)\n",
    "app.layout = html.Div([\n",
    "    html.H1(\"JupyterDash Demo\"),\n",
    "    dcc.Graph(id='graph'),\n",
    "    html.Label([\n",
    "        \"colorscale\",\n",
    "        dcc.Dropdown(\n",
    "            id='colorscale-dropdown', clearable=False,\n",
    "            value='plasma', options=[\n",
    "                {'label': c, 'value': c}\n",
    "                for c in px.colors.named_colorscales()\n",
    "            ])\n",
    "    ]),\n",
    "])\n",
    "# Define callback to update graph\n",
    "@app.callback(\n",
    "    Output('graph', 'figure'),\n",
    "    [Input(\"colorscale-dropdown\", \"value\")]\n",
    ")\n",
    "def update_figure(colorscale):\n",
    "    return px.scatter(\n",
    "        df, x=\"total_bill\", y=\"tip\", color=\"size\",\n",
    "        color_continuous_scale=colorscale,\n",
    "        render_mode=\"webgl\", title=\"Tips\"\n",
    "    )\n",
    "# Run app and display result inline in the notebook\n",
    "app.run_server(mode='inline')\n",
    "\n",
    "tunnel"
   ]
  }
 ],
 "metadata": {
  "language_info": {
   "codemirror_mode": {
    "name": "ipython",
    "version": 3
   },
   "file_extension": ".py",
   "mimetype": "text/x-python",
   "name": "python",
   "nbconvert_exporter": "python",
   "pygments_lexer": "ipython3",
   "version": "3.8.12"
  }
 },
 "nbformat": 4,
 "nbformat_minor": 2
}