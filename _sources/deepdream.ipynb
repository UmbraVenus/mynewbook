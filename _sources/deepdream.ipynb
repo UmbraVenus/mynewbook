{
 "metadata": {
  "language_info": {
   "codemirror_mode": {
    "name": "ipython",
    "version": 3
   },
   "file_extension": ".py",
   "mimetype": "text/x-python",
   "name": "python",
   "nbconvert_exporter": "python",
   "pygments_lexer": "ipython3",
   "version": 3
  },
  "orig_nbformat": 4
 },
 "nbformat": 4,
 "nbformat_minor": 2,
 "cells": [
  {
   "source": [
    "# Deep Dream of Deviation #"
   ],
   "cell_type": "markdown",
   "metadata": {}
  },
  {
   "source": [
    "### Applying machine learning and deep dream into selected image ###"
   ],
   "cell_type": "markdown",
   "metadata": {}
  },
  {
   "cell_type": "code",
   "execution_count": null,
   "metadata": {},
   "outputs": [],
   "source": [
    "%%html\n",
    "<script src=\"https://gist.github.com/UmbraVenus/de580771a7f2d4870691b57c6b9209c3.js\"></script>"
   ]
  },
  {
   "source": [
    "In order to run this notebook, please use the following(note that currently only those with berkeley.edu have access to the following link):"
   ],
   "cell_type": "markdown",
   "metadata": {}
  },
  {
   "source": [
    "https://colab.research.google.com/drive/1Y8hSG1i7OO6zf0RMb_2aI9lqBSDp9DuF?usp=sharing"
   ],
   "cell_type": "markdown",
   "metadata": {}
  }
 ]
}